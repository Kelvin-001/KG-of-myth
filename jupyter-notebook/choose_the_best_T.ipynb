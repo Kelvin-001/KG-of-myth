{
 "cells": [
  {
   "cell_type": "code",
   "execution_count": null,
   "metadata": {},
   "outputs": [],
   "source": [
    "import os\n",
    "import numpy as np"
   ]
  },
  {
   "cell_type": "code",
   "execution_count": null,
   "metadata": {},
   "outputs": [],
   "source": [
    "dir = 'C:/Users/25405/Desktop/KG/test_output_3/'\n",
    "files = os.listdir(dir)\n",
    "for file in files:\n",
    "    path = os.path.join(dir, file)\n",
    "    with open(path, 'r+', encoding = 'utf8') as f:\n",
    "        texts = f.readlines()\n",
    "        line_list = []\n",
    "        for line in texts:\n",
    "            line_num = line.split('\\t')[0][1:]\n",
    "            line_list.append(int(line_num))\n",
    "        if line_list != []:\n",
    "            max_T = max(line_list)\n",
    "            max_index = line_list.index(max(line_list))\n",
    "            f.seek(0)\n",
    "            f.truncate()    # 清空文件内容\n",
    "            f.writelines(texts[max_index - max_T + 1:max_index + 1])\n",
    "        else:\n",
    "            f.seek(0)\n",
    "            f.truncate()\n",
    "    f.close()"
   ]
  }
 ],
 "metadata": {
  "kernelspec": {
   "display_name": "Python 3",
   "language": "python",
   "name": "python3"
  },
  "language_info": {
   "codemirror_mode": {
    "name": "ipython",
    "version": 3
   },
   "file_extension": ".py",
   "mimetype": "text/x-python",
   "name": "python",
   "nbconvert_exporter": "python",
   "pygments_lexer": "ipython3",
   "version": "3.7.3"
  }
 },
 "nbformat": 4,
 "nbformat_minor": 4
}
