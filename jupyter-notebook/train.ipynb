{
 "cells": [
  {
   "cell_type": "code",
   "execution_count": null,
   "metadata": {},
   "outputs": [],
   "source": [
    "import pandas as pd\n",
    "print(pd.__file__)\n",
    "import sys\n",
    "sys.path.append('C:/Users/25405/Desktop/KG')"
   ]
  },
  {
   "cell_type": "code",
   "execution_count": null,
   "metadata": {},
   "outputs": [],
   "source": [
    "import tensorflow as tf\n",
    "from data_utils import batchManager, get_dict\n",
    "from model import Model\n",
    "import time"
   ]
  },
  {
   "cell_type": "code",
   "execution_count": null,
   "metadata": {},
   "outputs": [],
   "source": [
    "batch_size = 20\n",
    "dict_file = 'C:/Users/25405/Desktop/KG/data/prepare/dict.pkl'\n",
    "\n",
    "def train():\n",
    "    # - - - - - - - - - - - -数据准备- - - - - - - - - - - - - \n",
    "    train_manager = batchManager(batch_size = 8, name = 'train')\n",
    "    test_manager = batchManager(batch_size = 16, name = 'test')\n",
    "    \n",
    "    # - - - - - - - - - - - -读取字典- - - - - - - - - - - - - \n",
    "    mapping_dict = get_dict(dict_file)\n",
    "    \n",
    "    # - - - - - - - - - - - -搭建模型- - - - - - - - - - - - - \n",
    "    model = Model(mapping_dict)\n",
    "    \n",
    "    init = tf.global_variables_initializer()\n",
    "    with tf.Session() as sess:\n",
    "        sess.run(init)    # 初始化所有变量\n",
    "        for i in range(10):\n",
    "            j = 1\n",
    "            for batch in train_manager.iter_batch(shuffle = True): \n",
    "                start = time.time()\n",
    "                loss = model.run_step(sess, batch)\n",
    "                end = time.time()\n",
    "                if j % 10 == 0:\n",
    "                    print('epoch:{}, step:{}/{}, loss:{}, elapse:{}, estimate:{}'.format(i + 1,    # 第几轮\n",
    "                                                                                         j,    # 第几步\n",
    "                                                                                         train_manager.len_data,\n",
    "                                                                                         loss,\n",
    "                                                                                         end - start,    # 用时\n",
    "                                                                                         (end - start) * (train_manager.len_data - j)    # 剩余时间\n",
    "                                                                                        ))\n",
    "                j += 1\n",
    "            for batch in test_manager.iter_batch(shuffle = True):\n",
    "                print(model.predict(sess, batch))\n",
    "    \n",
    "    \n",
    "if __name__ == '__main__':\n",
    "    train()"
   ]
  }
 ],
 "metadata": {
  "kernelspec": {
   "display_name": "Python 3",
   "language": "python",
   "name": "python3"
  },
  "language_info": {
   "codemirror_mode": {
    "name": "ipython",
    "version": 3
   },
   "file_extension": ".py",
   "mimetype": "text/x-python",
   "name": "python",
   "nbconvert_exporter": "python",
   "pygments_lexer": "ipython3",
   "version": "3.7.3"
  }
 },
 "nbformat": 4,
 "nbformat_minor": 4
}
