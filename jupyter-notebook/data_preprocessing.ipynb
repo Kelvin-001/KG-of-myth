{
 "cells": [
  {
   "cell_type": "code",
   "execution_count": null,
   "metadata": {},
   "outputs": [],
   "source": [
    "import codecs\n",
    "\n",
    "f = codecs.open('E:\\\\KG\\\\myth\\\\train\\\\0.txt', mode='r', encoding='utf-8')\n",
    "line = f.readline()\n",
    "# print(line)\n",
    "# type(line)"
   ]
  },
  {
   "cell_type": "code",
   "execution_count": null,
   "metadata": {},
   "outputs": [],
   "source": [
    "word_index=[]\n",
    "for i in line:\n",
    "    word_index.append(i)\n",
    "# print(word_index)"
   ]
  },
  {
   "cell_type": "code",
   "execution_count": null,
   "metadata": {},
   "outputs": [],
   "source": [
    "label_index=[]\n",
    "for i in range(len(word_index)):\n",
    "    label_index.append(\"O\")"
   ]
  },
  {
   "cell_type": "code",
   "execution_count": null,
   "metadata": {},
   "outputs": [],
   "source": [
    "f2 = codecs.open('E:\\\\KG\\\\myth\\\\train\\\\0.ann', mode='r', encoding='utf-8')\n",
    "line2 = f2.readline()\n",
    "while line2:\n",
    "    oneline = line2.split()\n",
    "    category = oneline[1]\n",
    "    entity_begin=int(oneline[2])\n",
    "    entity_end=int(oneline[3])\n",
    "    entity_string=oneline[4]\n",
    "    if word_index[entity_begin]==entity_string[0]:\n",
    "        label_index[entity_begin]='B-'+category\n",
    "        if entity_end-entity_begin>1:\n",
    "            for i in range(entity_begin+1,entity_end):\n",
    "                label_index[i]='I-'+category\n",
    "    else:\n",
    "        print(\"error\")\n",
    "    line2 = f2.readline()\n",
    "f2.close()\n",
    "\n",
    "print(label_index)\n",
    "# oneline = line2.split()\n",
    "# category = oneline[1]\n",
    "# entity_begin=oneline[2]\n",
    "# entity_end=oneline[3]\n",
    "# entity_string=oneline[4]\n",
    "# print(category)\n",
    "# print(entity_begin)\n",
    "# print(entity_end)\n",
    "# print(entity_string)"
   ]
  },
  {
   "cell_type": "code",
   "execution_count": null,
   "metadata": {},
   "outputs": [],
   "source": [
    "f3 = open('E:\\\\KG\\\\myth\\\\train\\\\0_combined.txt','a')\n",
    "for i in range(len(word_index)):\n",
    "    f3.write(word_index[i]+' '+label_index[i]+'\\n')\n",
    "f3.close()"
   ]
  },
  {
   "cell_type": "code",
   "execution_count": null,
   "metadata": {},
   "outputs": [],
   "source": [
    "def data_preprossing(num):\n",
    "    f = codecs.open('E:\\\\KG\\\\myth\\\\train\\\\'+str(num)+'.txt', mode='r', encoding='utf-8')\n",
    "    line = f.readline()\n",
    "    word_index=[]\n",
    "    for i in line:\n",
    "        word_index.append(i)\n",
    "    label_index=[]\n",
    "    for i in range(len(word_index)):\n",
    "        label_index.append(\"O\")\n",
    "    f2 = codecs.open('E:\\\\KG\\\\myth\\\\train\\\\'+str(num)+'.ann', mode='r', encoding='utf-8')\n",
    "    line2 = f2.readline()\n",
    "    while line2:\n",
    "        oneline = line2.split()\n",
    "        category = oneline[1]\n",
    "        entity_begin=int(oneline[2])\n",
    "        entity_end=int(oneline[3])\n",
    "        entity_string=oneline[4]\n",
    "        if word_index[entity_begin]==entity_string[0]:\n",
    "            label_index[entity_begin]='B-'+category\n",
    "            if entity_end-entity_begin>1:\n",
    "                for i in range(entity_begin+1,entity_end):\n",
    "                    label_index[i]='I-'+category\n",
    "        else:\n",
    "            print(\"error\")\n",
    "        line2 = f2.readline()\n",
    "    f2.close()\n",
    "    f3 = open('E:\\\\KG\\\\myth\\\\train\\\\'+str(num)+'_combined.txt','a', encoding=\"utf-8\")\n",
    "    for i in range(len(word_index)):\n",
    "        f3.write(word_index[i]+' '+label_index[i]+'\\n')\n",
    "    f3.close()"
   ]
  },
  {
   "cell_type": "code",
   "execution_count": null,
   "metadata": {},
   "outputs": [],
   "source": [
    "for i in range(0,1000):\n",
    "    with open('E:\\\\KG\\\\myth\\\\train\\\\'+str(i)+'_combined.txt') as f:\n",
    "        print(\"the \"+str(i)+' doc')\n",
    "        for line in f.readlines():\n",
    "            with open('E:\\\\KG\\\\myth\\\\train\\\\all_train_data_1.txt',\"a\") as fp:\n",
    "                fp.write(line)"
   ]
  }
 ],
 "metadata": {
  "kernelspec": {
   "display_name": "Python 3",
   "language": "python",
   "name": "python3"
  },
  "language_info": {
   "codemirror_mode": {
    "name": "ipython",
    "version": 3
   },
   "file_extension": ".py",
   "mimetype": "text/x-python",
   "name": "python",
   "nbconvert_exporter": "python",
   "pygments_lexer": "ipython3",
   "version": "3.7.3"
  }
 },
 "nbformat": 4,
 "nbformat_minor": 4
}
