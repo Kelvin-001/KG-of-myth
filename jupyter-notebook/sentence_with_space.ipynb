{
 "cells": [
  {
   "cell_type": "code",
   "execution_count": null,
   "metadata": {},
   "outputs": [],
   "source": [
    "import codecs\n",
    "f = codecs.open('E:\\\\KG\\\\myth\\\\data\\\\test.txt', mode='r', encoding='utf-8')\n",
    "   # 以行的形式进行读取文件\n",
    "# print(line)\n",
    "# for i in line:\n",
    "#     print('_'+i+'_')"
   ]
  },
  {
   "cell_type": "code",
   "execution_count": null,
   "metadata": {},
   "outputs": [],
   "source": [
    "import codecs\n",
    "f = codecs.open('E:\\\\KG\\\\myth\\\\data\\\\test.txt', mode='r', encoding='utf-8')\n",
    "line = f.readline()\n",
    "list1 = []\n",
    "list2 = []\n",
    "while line:\n",
    "    if line.split()[0] !='O':\n",
    "        word = line.split()[0]\n",
    "        label=line.split()[1]\n",
    "        list1.append(word)\n",
    "        list2.append(label)\n",
    "    line = f.readline()\n",
    "#     if line[0] !=\" \":\n",
    "#         word = line.split()[0]\n",
    "#         label=line.split()[1]\n",
    "#         list1.append(word)\n",
    "#         list2.append(label)\n",
    "#     line = f.readline()    \n",
    "f.close()\n",
    "\n",
    "for i in range(len(list1)):\n",
    "    f1 = open('E:\\\\KG\\\\myth\\\\data\\\\test_no_space.txt','a',encoding='utf-8')\n",
    "    f1.write(list1[i]+' '+list2[i]+'\\n')\n",
    "f1.close()"
   ]
  },
  {
   "cell_type": "code",
   "execution_count": null,
   "metadata": {},
   "outputs": [],
   "source": [
    "import codecs\n",
    "f = codecs.open('E:\\\\KG\\\\myth\\\\data\\\\var.txt', mode='r', encoding='utf-8')\n",
    "line = f.readline()\n",
    "list1 = []\n",
    "list2 = []\n",
    "while line:\n",
    "    if line.split()[0] !='O':\n",
    "        word = line.split()[0]\n",
    "        label=line.split()[1]\n",
    "        list1.append(word)\n",
    "        list2.append(label)\n",
    "    line = f.readline()\n",
    "#     if line[0] !=\" \":\n",
    "#         word = line.split()[0]\n",
    "#         label=line.split()[1]\n",
    "#         list1.append(word)\n",
    "#         list2.append(label)\n",
    "#     line = f.readline()    \n",
    "f.close()\n",
    "\n",
    "for i in range(len(list1)):\n",
    "    f1 = open('E:\\\\KG\\\\myth\\\\data\\\\var_no_space.txt','a',encoding='utf-8')\n",
    "    f1.write(list1[i]+' '+list2[i]+'\\n')\n",
    "f1.close()"
   ]
  },
  {
   "cell_type": "code",
   "execution_count": null,
   "metadata": {},
   "outputs": [],
   "source": [
    "import codecs\n",
    "f = codecs.open('E:\\\\KG\\\\myth\\\\data\\\\var_no_space.txt', mode='r', encoding='utf-8')\n",
    "line = f.readline()\n",
    "list1 = []\n",
    "list2 = []\n",
    "while line:\n",
    "    word = line.split()[0]\n",
    "    label=line.split()[1]\n",
    "    list1.append(word)\n",
    "    list2.append(label)\n",
    "    if word ==\"。\":\n",
    "        list1.append(\" \")\n",
    "        list2.append(\" \")\n",
    "    line = f.readline()   \n",
    "f.close()\n",
    "\n",
    "# for i in range(len(list1)):\n",
    "#     f1 = open('E:\\\\KG\\\\myth\\\\data\\\\var_no_space.txt','a',encoding='utf-8')\n",
    "#     f1.write(list1[i]+' '+list2[i]+'\\n')\n",
    "# f1.close()\n",
    "print(list1)\n",
    "print(list2)"
   ]
  },
  {
   "cell_type": "code",
   "execution_count": null,
   "metadata": {},
   "outputs": [],
   "source": [
    "for i in range(len(list1)):\n",
    "    f1 = open('E:\\\\KG\\\\myth\\\\data\\\\var_sentence_segment.txt','a',encoding='utf-8')\n",
    "    f1.write(list1[i]+' '+list2[i]+'\\n')\n",
    "f1.close()"
   ]
  }
 ],
 "metadata": {
  "kernelspec": {
   "display_name": "Python 3",
   "language": "python",
   "name": "python3"
  },
  "language_info": {
   "codemirror_mode": {
    "name": "ipython",
    "version": 3
   },
   "file_extension": ".py",
   "mimetype": "text/x-python",
   "name": "python",
   "nbconvert_exporter": "python",
   "pygments_lexer": "ipython3",
   "version": "3.7.3"
  }
 },
 "nbformat": 4,
 "nbformat_minor": 4
}
