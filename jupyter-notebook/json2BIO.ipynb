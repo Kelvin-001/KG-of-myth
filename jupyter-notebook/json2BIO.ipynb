{
 "cells": [
  {
   "cell_type": "code",
   "execution_count": null,
   "metadata": {},
   "outputs": [],
   "source": [
    "import json"
   ]
  },
  {
   "cell_type": "code",
   "execution_count": null,
   "metadata": {},
   "outputs": [],
   "source": [
    "annotations = []\n",
    "\n",
    "with open('file.json', encoding='utf-8') as f:\n",
    "    for i in range(250):\n",
    "        line = f. readline()\n",
    "        d = json.loads(line)\n",
    "        annotations.append(d)"
   ]
  },
  {
   "cell_type": "code",
   "execution_count": null,
   "metadata": {},
   "outputs": [],
   "source": [
    "# len(annotations)\n",
    "# len(annotations[2]['text'])\n",
    "sentences = []\n",
    "\n",
    "for annotation in annotations:\n",
    "    s = annotation['text']\n",
    "    s = \"\".join(s.split())\n",
    "    sentences.append(s)"
   ]
  },
  {
   "cell_type": "code",
   "execution_count": null,
   "metadata": {},
   "outputs": [],
   "source": [
    "# len(sentences[2])\n",
    "# len(sentences)"
   ]
  },
  {
   "cell_type": "code",
   "execution_count": null,
   "metadata": {},
   "outputs": [],
   "source": [
    "labels = []\n",
    "\n",
    "for annotation in annotations:\n",
    "    label = ['O' for i in range(len(annotation['text']))]\n",
    "    for l in annotation['labels']:\n",
    "        if l[2] != '无标注':\n",
    "            if l[2] == 'ATTRI':\n",
    "                c = 'AIRCRAFT'\n",
    "            elif l[2] == '动物':\n",
    "                c = 'ANIMAL'\n",
    "            elif l[2] == '人物':\n",
    "                c = 'FIGURE'\n",
    "            elif l[2] == '地点（居所）':\n",
    "                c = 'LOC'\n",
    "            elif l[2] == '特定物':\n",
    "                c = 'SPEC'\n",
    "            label[l[0]] = 'B-' + c\n",
    "            for i in range(l[0] + 1, l[1]):\n",
    "                label[i] = 'I-' + c\n",
    "    labels.append(label)"
   ]
  },
  {
   "cell_type": "code",
   "execution_count": null,
   "metadata": {},
   "outputs": [],
   "source": [
    "# labels[3]"
   ]
  },
  {
   "cell_type": "code",
   "execution_count": null,
   "metadata": {},
   "outputs": [],
   "source": [
    "import random\n",
    "\n",
    "randnum = random.randint(0,100)\n",
    "random.seed(randnum)\n",
    "random.shuffle(sentences)\n",
    "random.seed(randnum)\n",
    "random.shuffle(labels)"
   ]
  },
  {
   "cell_type": "code",
   "execution_count": null,
   "metadata": {},
   "outputs": [],
   "source": [
    "import codecs\n",
    "\n",
    "with codecs.open('train.char.bmes', 'w', encoding='utf-8') as f:\n",
    "    for i in range(200):\n",
    "        for j in range(len(sentences[i])):\n",
    "            f.write(sentences[i][j])\n",
    "            f.write(' ')\n",
    "            f.write(labels[i][j])\n",
    "            f.write('\\n')\n",
    "        f.write('\\n')\n",
    "\n",
    "with codecs.open('val.char.bmes', 'w', encoding='utf-8') as f:\n",
    "    for i in range(200, 225):\n",
    "        for j in range(len(sentences[i])):\n",
    "            f.write(sentences[i][j])\n",
    "            f.write(' ')\n",
    "            f.write(labels[i][j])\n",
    "            f.write('\\n')\n",
    "        f.write(\"\\n\")\n",
    "\n",
    "with codecs.open('test.char.bmes', 'w', encoding='utf-8') as f:\n",
    "    for i in range(225, 250):\n",
    "        for j in range(len(sentences[i])):\n",
    "            f.write(sentences[i][j])\n",
    "            f.write(' ')\n",
    "            f.write(labels[i][j])\n",
    "            f.write('\\n')\n",
    "        f.write('\\n')"
   ]
  }
 ],
 "metadata": {
  "kernelspec": {
   "display_name": "Python 3",
   "language": "python",
   "name": "python3"
  },
  "language_info": {
   "codemirror_mode": {
    "name": "ipython",
    "version": 3
   },
   "file_extension": ".py",
   "mimetype": "text/x-python",
   "name": "python",
   "nbconvert_exporter": "python",
   "pygments_lexer": "ipython3",
   "version": "3.7.3"
  }
 },
 "nbformat": 4,
 "nbformat_minor": 4
}
